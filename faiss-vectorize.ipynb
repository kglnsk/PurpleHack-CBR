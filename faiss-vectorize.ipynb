{
 "cells": [
  {
   "cell_type": "code",
   "execution_count": 12,
   "id": "abc21b80",
   "metadata": {},
   "outputs": [],
   "source": [
    "text_splitter = RecursiveCharacterTextSplitter(\n",
    "    chunk_size=1536,\n",
    "    chunk_overlap=256,\n",
    "    length_function=len,\n",
    "    is_separator_regex=True,\n",
    ")\n",
    "\n",
    "documents = text_splitter.create_documents(\n",
    "    [value for value in correct_dict.values()], metadatas=[{key:i} for i,key in enumerate(correct_dict.keys())]\n",
    ")\n",
    "\n",
    "s = text_splitter.split_documents(documents)"
   ]
  },
  {
   "cell_type": "code",
   "execution_count": 24,
   "id": "39ef66b6",
   "metadata": {},
   "outputs": [],
   "source": [
    "import pickle\n",
    "with open('chunks_ref_v2.pickle', 'wb') as handle:\n",
    "    pickle.dump(s, handle, protocol=pickle.HIGHEST_PROTOCOL)"
   ]
  },
  {
   "cell_type": "code",
   "execution_count": 25,
   "id": "4398aee9",
   "metadata": {},
   "outputs": [],
   "source": [
    "with open('chunks_ref_v2.pickle', 'rb') as handle:\n",
    "    chunks = pickle.load(handle)"
   ]
  },
  {
   "cell_type": "code",
   "execution_count": 20,
   "id": "74de78b4",
   "metadata": {},
   "outputs": [],
   "source": [
    "from sentence_transformers import SentenceTransformer\n",
    "model = SentenceTransformer('BAAI/bge-m3')\n"
   ]
  },
  {
   "cell_type": "code",
   "execution_count": 15,
   "id": "849b4fbf",
   "metadata": {},
   "outputs": [],
   "source": [
    "chunks_text = [t.page_content for t in s]\n"
   ]
  },
  {
   "cell_type": "code",
   "execution_count": 21,
   "id": "02cbe6e4",
   "metadata": {},
   "outputs": [
    {
     "data": {
      "application/vnd.jupyter.widget-view+json": {
       "model_id": "d138f56ead344c60b8658dafd7e87ef9",
       "version_major": 2,
       "version_minor": 0
      },
      "text/plain": [
       "Batches:   0%|          | 0/13531 [00:00<?, ?it/s]"
      ]
     },
     "metadata": {},
     "output_type": "display_data"
    }
   ],
   "source": [
    "embeddings = model.encode(chunks_text,show_progress_bar = True,batch_size = 4)"
   ]
  },
  {
   "cell_type": "code",
   "execution_count": 22,
   "id": "4ea1e0e6",
   "metadata": {},
   "outputs": [],
   "source": [
    "import numpy as np\n",
    "np.save('embs-bge',embeddings)"
   ]
  }
 ],
 "metadata": {
  "kernelspec": {
   "display_name": "Python 3 (ipykernel)",
   "language": "python",
   "name": "python3"
  },
  "language_info": {
   "codemirror_mode": {
    "name": "ipython",
    "version": 3
   },
   "file_extension": ".py",
   "mimetype": "text/x-python",
   "name": "python",
   "nbconvert_exporter": "python",
   "pygments_lexer": "ipython3",
   "version": "3.10.9"
  }
 },
 "nbformat": 4,
 "nbformat_minor": 5
}
